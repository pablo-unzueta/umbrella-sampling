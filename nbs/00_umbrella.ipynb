{
 "cells": [
  {
   "cell_type": "markdown",
   "metadata": {},
   "source": [
    "# umbrella\n",
    "\n",
    "> umbrella sampling routine"
   ]
  },
  {
   "cell_type": "code",
   "execution_count": null,
   "metadata": {},
   "outputs": [],
   "source": [
    "#| default_exp umbrella"
   ]
  },
  {
   "cell_type": "code",
   "execution_count": null,
   "metadata": {},
   "outputs": [],
   "source": [
    "#| hide\n",
    "from nbdev.showdoc import *\n",
    "from fastcore.test import test_eq"
   ]
  },
  {
   "cell_type": "code",
   "execution_count": null,
   "metadata": {},
   "outputs": [],
   "source": [
    "#| export\n",
    "def compute_cv(config):\n",
    "    # Compute the value of the CV given a system configuration\n",
    "    return cv_value\n",
    "\n",
    "def biased_potential(cv_value, target_value, force_constant):\n",
    "    # Compute the value of the harmonic biasing potential\n",
    "    return 0.5 * force_constant * (cv_value - target_value)**2"
   ]
  },
  {
   "cell_type": "markdown",
   "metadata": {},
   "source": [
    "Check that math works"
   ]
  },
  {
   "cell_type": "code",
   "execution_count": null,
   "metadata": {},
   "outputs": [],
   "source": [
    "test_eq(biased_potential(10.0, 5, 0.25), 3.125)"
   ]
  },
  {
   "cell_type": "code",
   "execution_count": null,
   "metadata": {},
   "outputs": [],
   "source": [
    "# def run_simulation_for_window(target_value, force_constant):\n",
    "#     # Run the MD simulation with the biasing potential\n",
    "#     configs = []\n",
    "#     for step in range(num_steps):\n",
    "#         config = generate_new_config()  # Using MD\n",
    "#         cv_value = compute_cv(config)\n",
    "#         energy = compute_energy(config) + biased_potential(cv_value, target_value, force_constant)\n",
    "#         if accept_new_config(energy):  # Based on Metropolis criterion or MD integration\n",
    "#             configs.append(config)\n",
    "#     return configs\n",
    "\n",
    "# # Main loop for umbrella sampling\n",
    "# all_configs = []\n",
    "# for window in windows:\n",
    "#     configs = run_simulation_for_window(target_value=window.target_value, force_constant=window.force_constant)\n",
    "#     all_configs.extend(configs)\n",
    "\n",
    "# Post-process with WHAM to obtain free energy profile\n",
    "# free_energy_profile = wham(all_configs)\n"
   ]
  },
  {
   "cell_type": "code",
   "execution_count": null,
   "metadata": {},
   "outputs": [],
   "source": [
    "#| hide\n",
    "import nbdev\n",
    "nbdev.nbdev_export()"
   ]
  }
 ],
 "metadata": {
  "kernelspec": {
   "display_name": "python3",
   "language": "python",
   "name": "python3"
  }
 },
 "nbformat": 4,
 "nbformat_minor": 4
}

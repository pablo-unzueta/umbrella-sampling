{
 "cells": [
  {
   "cell_type": "markdown",
   "metadata": {},
   "source": [
    "# file-io\n",
    "\n",
    "> get things from file-based terachem outputs"
   ]
  },
  {
   "cell_type": "code",
   "execution_count": null,
   "metadata": {},
   "outputs": [],
   "source": [
    "#| default_exp file-io"
   ]
  },
  {
   "cell_type": "code",
   "execution_count": null,
   "metadata": {},
   "outputs": [],
   "source": [
    "#| hide\n",
    "from nbdev.showdoc import *\n",
    "from fastcore.test import *"
   ]
  },
  {
   "cell_type": "code",
   "execution_count": null,
   "metadata": {},
   "outputs": [],
   "source": [
    "#| export\n",
    "from pathlib import Path\n",
    "import re"
   ]
  },
  {
   "cell_type": "code",
   "execution_count": null,
   "metadata": {},
   "outputs": [],
   "source": [
    "#| export\n",
    "def get_casscf_energy_of_state(\n",
    "    file: Path,  # Path to TC output file\n",
    "    state: int,  # State ID (1-indexed)\n",
    ") -> float: # Energy in Hartree\n",
    "    \"\"\"Returns CASSCF energy of state\"\"\"\n",
    "    with open(file, \"r\") as f:\n",
    "        for line in f:\n",
    "            if f\"Singlet state  {state} energy:\" in line:\n",
    "                return float(line.split()[-1])"
   ]
  },
  {
   "cell_type": "markdown",
   "metadata": {},
   "source": [
    "## Grab energy of casscf jobs"
   ]
  },
  {
   "cell_type": "code",
   "execution_count": null,
   "metadata": {},
   "outputs": [
    {
     "name": "stdout",
     "output_type": "stream",
     "text": [
      "s1 energy: -750.8831979447649\n"
     ]
    }
   ],
   "source": [
    "s1_energy = get_casscf_energy_of_state(Path('../examples/tc-outfile/tc.out'), state=2)\n",
    "print(f\"s1 energy: {s1_energy}\")\n",
    "test_close(get_casscf_energy_of_state(Path('../examples/tc-outfile/tc.out'), state=1), -750.98527871713941, eps=1e-6)"
   ]
  },
  {
   "cell_type": "code",
   "execution_count": null,
   "metadata": {},
   "outputs": [],
   "source": [
    "# | export\n",
    "def get_cas_tdip_of_states(\n",
    "    file: Path,  # Path to TC output file\n",
    ") -> dict:\n",
    "    \"\"\"Returns transition dipole moment information of requested states\"\"\"\n",
    "    tdip_info = []\n",
    "    # pattern = r\"(\\d+) ->  (\\d+)([ \\t-]+)([\\d.-]+)([ \\t-]+)([\\d.-]+)([ \\t-]+)([\\d.-]+)([ \\t-]+)([\\d.-]+)([ \\t-]+)([\\d.-]+)\"\n",
    "    pattern = r\"(\\d+) ->  (\\d+)([ \\s*]+)([-?\\d.]+)([ \\s*]+)([-?\\d.]+)([ \\s*]+)([-?\\d.]+)([ \\s*]+)([-?\\d.]+)([ \\s*]+)([-?\\d.]+)\"\n",
    "    tdip_string = \"Singlet state electronic transitions:\"\n",
    "    end_string = \"Singlet state velocity transition dipole moments:\"\n",
    "    tdip_section = False\n",
    "    with open(file, \"r\") as f:\n",
    "        for line in f:\n",
    "            if tdip_string in line:\n",
    "                tdip_section = True\n",
    "\n",
    "            if end_string in line:\n",
    "                tdip_section = False\n",
    "\n",
    "            if tdip_section:\n",
    "                match = re.search(pattern, line)\n",
    "                # delete groups with only whitespace\n",
    "                if match:\n",
    "                    # match = [m for m in match.groups() if m.strip()]\n",
    "                    state_1, state_2, _, t_x, _, t_y, _, t_z, _, t_mag, _, osc = match.groups()\n",
    "                    tdip_info.append({\"state1\": int(state_1), \"state2\": int(state_2), \"t_x\": float(t_x), \"t_y\": float(t_y), \"t_z\": float(t_z), \"t_mag\": float(t_mag), \"osc\": float(osc)})\n",
    "    return tdip_info"
   ]
  },
  {
   "cell_type": "markdown",
   "metadata": {},
   "source": [
    "## Can also get Transition Dipole Moment Info from TeraChem output file"
   ]
  },
  {
   "cell_type": "code",
   "execution_count": null,
   "metadata": {},
   "outputs": [],
   "source": [
    "tdip_test = [{'state1': 1,\n",
    "  'state2': 2,\n",
    "  't_x': 3.8931,\n",
    "  't_y': -0.7637,\n",
    "  't_z': 0.0162,\n",
    "  't_mag': 3.9673,\n",
    "  'osc': 1.0711},\n",
    " {'state1': 1,\n",
    "  'state2': 3,\n",
    "  't_x': -0.1401,\n",
    "  't_y': 0.1908,\n",
    "  't_z': 0.5539,\n",
    "  't_mag': 0.6023,\n",
    "  'osc': 0.0366},\n",
    " {'state1': 2,\n",
    "  'state2': 3,\n",
    "  't_x': -0.7214,\n",
    "  't_y': 0.1486,\n",
    "  't_z': -0.0227,\n",
    "  't_mag': 0.7369,\n",
    "  'osc': 0.0178}]"
   ]
  },
  {
   "cell_type": "code",
   "execution_count": null,
   "metadata": {},
   "outputs": [],
   "source": [
    "test_eq(get_cas_tdip_of_states(Path('../examples/tc-outfile/tc.out')), tdip_test) "
   ]
  },
  {
   "cell_type": "code",
   "execution_count": null,
   "metadata": {},
   "outputs": [],
   "source": [
    "#| hide\n",
    "import nbdev\n",
    "nbdev.nbdev_export()"
   ]
  },
  {
   "cell_type": "code",
   "execution_count": null,
   "metadata": {},
   "outputs": [],
   "source": []
  }
 ],
 "metadata": {
  "kernelspec": {
   "display_name": "python3",
   "language": "python",
   "name": "python3"
  }
 },
 "nbformat": 4,
 "nbformat_minor": 2
}
